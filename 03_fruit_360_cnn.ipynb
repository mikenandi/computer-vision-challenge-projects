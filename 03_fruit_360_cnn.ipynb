{
 "cells": [
  {
   "cell_type": "markdown",
   "id": "f85801ec-af7f-49df-826a-a8ab6d7eedf6",
   "metadata": {},
   "source": [
    "# 🍡🍱 Day 3 – Fruit Classification\n",
    "\n",
    "### **Goal**\n",
    "\n",
    "Build a **Convolutional Neural Network (CNN)** model to classify fruits such as apples, bananas, oranges, and others using the **Fruits 360 dataset**.\n",
    "\n",
    "* **Target Accuracy:** At least **85%–90%** on the test dataset.\n",
    "\n",
    "---\n",
    "\n",
    "### **Steps**\n",
    "\n",
    "1. **Dataset Preparation**\n",
    "\n",
    "   * Download the **Fruits 360 dataset**.\n",
    "   * Arrange the dataset into **training** and **testing** folders, where each fruit has its own subfolder (e.g., `apple`, `banana`, `orange`).\n",
    "\n",
    "2. **Data Augmentation**\n",
    "\n",
    "   * Apply transformations to increase dataset diversity:\n",
    "\n",
    "     * Resizing all images to the same size.\n",
    "     * Random rotations, flips, and shifts.\n",
    "     * Normalization of pixel values.\n",
    "\n",
    "3. **Data Loading**\n",
    "\n",
    "   * Load training and testing data in batches for efficient processing.\n",
    "   * Ensure proper shuffling to prevent bias during training.\n",
    "\n",
    "4. **Model Building (CNN)**\n",
    "\n",
    "   * Design a CNN with layers such as:\n",
    "\n",
    "     * Convolutional layers to extract fruit features.\n",
    "     * Pooling layers to reduce spatial dimensions.\n",
    "     * Fully connected layers for classification.\n",
    "   * Use **softmax** activation in the final layer to handle multi-class classification.\n",
    "\n",
    "5. **Loss Function and Optimizer**\n",
    "\n",
    "   * Use **categorical cross-entropy loss** since this is a multi-class task.\n",
    "   * Use an optimizer such as **Adam** for faster convergence.\n",
    "\n",
    "6. **Training**\n",
    "\n",
    "   * Train the CNN for several epochs.\n",
    "   * Track **training loss** and **validation accuracy** after each epoch.\n",
    "   * Stop when the model reaches at least **85% accuracy** on the validation dataset.\n",
    "\n",
    "7. **Model Evaluation**\n",
    "\n",
    "   * Evaluate the CNN using the test dataset.\n",
    "   * Measure **accuracy** and analyze which fruit classes are most often confused.\n",
    "\n",
    "8. **Save the Model**\n",
    "\n",
    "   * Save the trained model so it can be reused later without retraining.\n",
    "\n",
    "9. **Improvements**\n",
    "\n",
    "   * If accuracy is below target:\n",
    "\n",
    "     * Add more convolutional layers.\n",
    "     * Adjust learning rate or batch size.\n",
    "     * Try stronger augmentation."
   ]
  },
  {
   "cell_type": "code",
   "execution_count": 1,
   "id": "272c8dfc-9849-4dbc-8937-3e526d5e5f47",
   "metadata": {},
   "outputs": [],
   "source": [
    "import torch\n",
    "from torch import nn\n",
    "\n",
    "# for computer vision\n",
    "import torchvision\n",
    "from torchvision import datasets, transforms\n",
    "\n",
    "import matplotlib.pyplot as plt\n",
    "import seaborn as sns"
   ]
  },
  {
   "cell_type": "code",
   "execution_count": 2,
   "id": "663ff025-a94e-46d5-be79-17735de7876e",
   "metadata": {},
   "outputs": [],
   "source": [
    "# Setting up costants\n",
    "DEVICE = \"mps\" if torch.backends.mps.is_available() else \"cpu\"\n",
    "SEED = 42"
   ]
  },
  {
   "cell_type": "code",
   "execution_count": 4,
   "id": "60fa578b-56ea-4b5a-88b7-c994bafde005",
   "metadata": {},
   "outputs": [],
   "source": [
    "# import kagglehub \n",
    "\n",
    "# path = kagglehub.dataset_download(\"data/fruits\")"
   ]
  },
  {
   "cell_type": "code",
   "execution_count": null,
   "id": "8be702a3-8c12-40da-af5f-7aeea711222e",
   "metadata": {},
   "outputs": [],
   "source": []
  }
 ],
 "metadata": {
  "kernelspec": {
   "display_name": "Python (env_pytorch)",
   "language": "python",
   "name": "env_pytorch"
  },
  "language_info": {
   "codemirror_mode": {
    "name": "ipython",
    "version": 3
   },
   "file_extension": ".py",
   "mimetype": "text/x-python",
   "name": "python",
   "nbconvert_exporter": "python",
   "pygments_lexer": "ipython3",
   "version": "3.9.23"
  }
 },
 "nbformat": 4,
 "nbformat_minor": 5
}
